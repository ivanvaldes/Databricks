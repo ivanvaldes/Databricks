{
 "cells": [
  {
   "cell_type": "markdown",
   "metadata": {
    "application/vnd.databricks.v1+cell": {
     "cellMetadata": {
      "byteLimit": 2048000,
      "rowLimit": 10000
     },
     "inputWidgets": {},
     "nuid": "13f4826a-140c-4a27-97e4-6a777cd31aa5",
     "showTitle": false,
     "title": ""
    }
   },
   "source": [
    "##  PySpark\n",
    "> Ivan Valdes"
   ]
  },
  {
   "cell_type": "code",
   "execution_count": 0,
   "metadata": {
    "application/vnd.databricks.v1+cell": {
     "cellMetadata": {
      "byteLimit": 2048000,
      "rowLimit": 10000
     },
     "inputWidgets": {},
     "nuid": "46a09df1-5d0c-4e8a-903b-21b551ce7b54",
     "showTitle": false,
     "title": ""
    }
   },
   "outputs": [],
   "source": [
    "# Import libraries\n",
    "from pyspark.sql.types import StructType, StructField, StringType, IntegerType\n",
    "from pyspark.sql.functions import lit, sum, col, expr, concat_ws"
   ]
  },
  {
   "cell_type": "markdown",
   "metadata": {
    "application/vnd.databricks.v1+cell": {
     "cellMetadata": {
      "byteLimit": 2048000,
      "rowLimit": 10000
     },
     "inputWidgets": {},
     "nuid": "ef35c7ad-4b93-4dd0-ae08-fee0b6c9b808",
     "showTitle": false,
     "title": ""
    }
   },
   "source": [
    "### 1. Create a DataFrame with customer's data, including name, age, and city of residence."
   ]
  },
  {
   "cell_type": "code",
   "execution_count": 0,
   "metadata": {
    "application/vnd.databricks.v1+cell": {
     "cellMetadata": {
      "byteLimit": 2048000,
      "rowLimit": 10000
     },
     "inputWidgets": {},
     "nuid": "07be09e4-8748-4a33-af25-28f797dc8366",
     "showTitle": false,
     "title": ""
    }
   },
   "outputs": [
    {
     "output_type": "display_data",
     "data": {
      "text/html": [
       "<style scoped>\n",
       "  .table-result-container {\n",
       "    max-height: 300px;\n",
       "    overflow: auto;\n",
       "  }\n",
       "  table, th, td {\n",
       "    border: 1px solid black;\n",
       "    border-collapse: collapse;\n",
       "  }\n",
       "  th, td {\n",
       "    padding: 5px;\n",
       "  }\n",
       "  th {\n",
       "    text-align: left;\n",
       "  }\n",
       "</style><div class='table-result-container'><table class='table-result'><thead style='background-color: white'><tr><th>Name</th><th>Age</th><th>City</th></tr></thead><tbody><tr><td>Alice</td><td>25</td><td>New York</td></tr><tr><td>Bob</td><td>30</td><td>Los Angeles</td></tr><tr><td>Charlie</td><td>22</td><td>Chicago</td></tr></tbody></table></div>"
      ]
     },
     "metadata": {
      "application/vnd.databricks.v1+output": {
       "addedWidgets": {},
       "aggData": [],
       "aggError": "",
       "aggOverflow": false,
       "aggSchema": [],
       "aggSeriesLimitReached": false,
       "aggType": "",
       "arguments": {},
       "columnCustomDisplayInfos": {},
       "data": [
        [
         "Alice",
         25,
         "New York"
        ],
        [
         "Bob",
         30,
         "Los Angeles"
        ],
        [
         "Charlie",
         22,
         "Chicago"
        ]
       ],
       "datasetInfos": [],
       "dbfsResultPath": null,
       "isJsonSchema": true,
       "metadata": {},
       "overflow": false,
       "plotOptions": {
        "customPlotOptions": {},
        "displayType": "table",
        "pivotAggregation": null,
        "pivotColumns": null,
        "xColumns": null,
        "yColumns": null
       },
       "removedWidgets": [],
       "schema": [
        {
         "metadata": "{}",
         "name": "Name",
         "type": "\"string\""
        },
        {
         "metadata": "{}",
         "name": "Age",
         "type": "\"integer\""
        },
        {
         "metadata": "{}",
         "name": "City",
         "type": "\"string\""
        }
       ],
       "type": "table"
      }
     },
     "output_type": "display_data"
    }
   ],
   "source": [
    "# Data\n",
    "df=  [(\"Alice\", 25, \"New York\"),\n",
    "        (\"Bob\", 30, \"Los Angeles\"),\n",
    "        (\"Charlie\", 22, \"Chicago\")]\n",
    "\n",
    "# Define the schema with column names\n",
    "schema = StructType([\n",
    "    StructField(\"Name\", StringType(), True),\n",
    "    StructField(\"Age\", IntegerType(), True),\n",
    "    StructField(\"City\", StringType(), True)\n",
    "])\n",
    "\n",
    "# Create DataFrame\n",
    "dfCustomer=spark.createDataFrame(df, schema=schema)\n",
    "display(dfCustomer)"
   ]
  },
  {
   "cell_type": "markdown",
   "metadata": {
    "application/vnd.databricks.v1+cell": {
     "cellMetadata": {},
     "inputWidgets": {},
     "nuid": "88879b12-54b8-43a1-93e0-d192de3c0f1c",
     "showTitle": false,
     "title": ""
    }
   },
   "source": [
    "### 2. Display only the client names in the DataFrame."
   ]
  },
  {
   "cell_type": "code",
   "execution_count": 0,
   "metadata": {
    "application/vnd.databricks.v1+cell": {
     "cellMetadata": {
      "byteLimit": 2048000,
      "rowLimit": 10000
     },
     "inputWidgets": {},
     "nuid": "618e7d6d-6e6e-491d-9319-b806e2c98692",
     "showTitle": false,
     "title": ""
    }
   },
   "outputs": [
    {
     "output_type": "stream",
     "name": "stdout",
     "output_type": "stream",
     "text": [
      "+-------+\n|   Name|\n+-------+\n|  Alice|\n|    Bob|\n|Charlie|\n+-------+\n\n"
     ]
    }
   ],
   "source": [
    "# We transform the data, keeping only the name\n",
    "dfCustomerSelect = (dfCustomer\n",
    "  .select(\"Name\") \n",
    ")\n",
    "\n",
    "# Display results\n",
    "dfCustomerSelect.show()"
   ]
  },
  {
   "cell_type": "markdown",
   "metadata": {
    "application/vnd.databricks.v1+cell": {
     "cellMetadata": {},
     "inputWidgets": {},
     "nuid": "fb6924fb-323c-4b4f-9b62-90383d8e2a15",
     "showTitle": false,
     "title": ""
    }
   },
   "source": [
    "### 3. Filter clients whose age is greater than or equal to 25."
   ]
  },
  {
   "cell_type": "code",
   "execution_count": 0,
   "metadata": {
    "application/vnd.databricks.v1+cell": {
     "cellMetadata": {
      "byteLimit": 2048000,
      "rowLimit": 10000
     },
     "inputWidgets": {},
     "nuid": "3d351ba7-6acf-4184-b856-56862d54cb3d",
     "showTitle": false,
     "title": ""
    }
   },
   "outputs": [
    {
     "output_type": "stream",
     "name": "stdout",
     "output_type": "stream",
     "text": [
      "+-----+---+-----------+\n| Name|Age|       City|\n+-----+---+-----------+\n|Alice| 25|   New York|\n|  Bob| 30|Los Angeles|\n+-----+---+-----------+\n\n"
     ]
    }
   ],
   "source": [
    "# Age filter\n",
    "dfCustomerOlder25 = dfCustomer.filter(dfCustomer[\"Age\"] >= 25)\n",
    "\n",
    "# Display results\n",
    "dfCustomerOlder25.show()"
   ]
  },
  {
   "cell_type": "markdown",
   "metadata": {
    "application/vnd.databricks.v1+cell": {
     "cellMetadata": {},
     "inputWidgets": {},
     "nuid": "22fc033b-a1c8-442f-b04f-4546c46c4c6f",
     "showTitle": false,
     "title": ""
    }
   },
   "source": [
    "### 4. Add a new column \"Country\" with a constant value for all rows."
   ]
  },
  {
   "cell_type": "code",
   "execution_count": 0,
   "metadata": {
    "application/vnd.databricks.v1+cell": {
     "cellMetadata": {
      "byteLimit": 2048000,
      "rowLimit": 10000
     },
     "inputWidgets": {},
     "nuid": "9ba1e2df-cfa3-4a76-8ede-3fe6fa94fa9f",
     "showTitle": false,
     "title": ""
    }
   },
   "outputs": [
    {
     "output_type": "stream",
     "name": "stdout",
     "output_type": "stream",
     "text": [
      "+-------+---+-----------+-------+\n|   Name|Age|       City|Country|\n+-------+---+-----------+-------+\n|  Alice| 25|   New York|   EEUU|\n|    Bob| 30|Los Angeles|   EEUU|\n|Charlie| 22|    Chicago|   EEUU|\n+-------+---+-----------+-------+\n\n"
     ]
    }
   ],
   "source": [
    "# Add a new column\n",
    "dfCustomerWithCountry = dfCustomer.withColumn(\"Country\", lit(\"EEUU\"))\n",
    "\n",
    "# Display results\n",
    "dfCustomerWithCountry.show()"
   ]
  },
  {
   "cell_type": "markdown",
   "metadata": {
    "application/vnd.databricks.v1+cell": {
     "cellMetadata": {},
     "inputWidgets": {},
     "nuid": "23be75b6-0966-44cf-8288-cd369748459c",
     "showTitle": false,
     "title": ""
    }
   },
   "source": [
    "### 5. Calculate the average age."
   ]
  },
  {
   "cell_type": "code",
   "execution_count": 0,
   "metadata": {
    "application/vnd.databricks.v1+cell": {
     "cellMetadata": {
      "byteLimit": 2048000,
      "rowLimit": 10000
     },
     "inputWidgets": {},
     "nuid": "d423c160-6ee8-4f20-9a57-af608101d9e4",
     "showTitle": false,
     "title": ""
    }
   },
   "outputs": [
    {
     "output_type": "stream",
     "name": "stdout",
     "output_type": "stream",
     "text": [
      "Average age: 25.7\n"
     ]
    }
   ],
   "source": [
    "# Average\n",
    "average_age = dfCustomer.agg({\"Age\": \"avg\"}).collect()[0][0]\n",
    "\n",
    "# Display results\n",
    "print(\"Average age:\", round(average_age,1))"
   ]
  },
  {
   "cell_type": "markdown",
   "metadata": {
    "application/vnd.databricks.v1+cell": {
     "cellMetadata": {},
     "inputWidgets": {},
     "nuid": "40721372-4b7c-49d7-bcf2-0bda546e8043",
     "showTitle": false,
     "title": ""
    }
   },
   "source": [
    "### 6. Sort the DataFrame by age in descending order."
   ]
  },
  {
   "cell_type": "code",
   "execution_count": 0,
   "metadata": {
    "application/vnd.databricks.v1+cell": {
     "cellMetadata": {
      "byteLimit": 2048000,
      "rowLimit": 10000
     },
     "inputWidgets": {},
     "nuid": "e5b9ebda-9a73-469d-a1cf-500824a650df",
     "showTitle": false,
     "title": ""
    }
   },
   "outputs": [
    {
     "output_type": "stream",
     "name": "stdout",
     "output_type": "stream",
     "text": [
      "+-------+---+-----------+\n|   Name|Age|       City|\n+-------+---+-----------+\n|    Bob| 30|Los Angeles|\n|  Alice| 25|   New York|\n|Charlie| 22|    Chicago|\n+-------+---+-----------+\n\n"
     ]
    }
   ],
   "source": [
    "# Descending order\n",
    "dfOrderedDesc = dfCustomer.orderBy(\"Age\", ascending=False)\n",
    "\n",
    "# Display results\n",
    "dfOrderedDesc.show()"
   ]
  },
  {
   "cell_type": "markdown",
   "metadata": {
    "application/vnd.databricks.v1+cell": {
     "cellMetadata": {},
     "inputWidgets": {},
     "nuid": "5d89b091-a807-4635-9e9e-61649f1b0693",
     "showTitle": false,
     "title": ""
    }
   },
   "source": [
    "### 7. Group by city and calculate the count of people in each city."
   ]
  },
  {
   "cell_type": "code",
   "execution_count": 0,
   "metadata": {
    "application/vnd.databricks.v1+cell": {
     "cellMetadata": {
      "byteLimit": 2048000,
      "rowLimit": 10000
     },
     "inputWidgets": {},
     "nuid": "1615f76d-7577-4048-ab7f-124970d09cd4",
     "showTitle": false,
     "title": ""
    }
   },
   "outputs": [
    {
     "output_type": "stream",
     "name": "stdout",
     "output_type": "stream",
     "text": [
      "Number of customers in each city:\n+-----------+-----+\n|       City|count|\n+-----------+-----+\n|   New York|    2|\n|Los Angeles|    1|\n|    Chicago|    2|\n+-----------+-----+\n\n"
     ]
    }
   ],
   "source": [
    "# Add more customers\n",
    "new_data = [(\"Frank\", 40, \"Chicago\"),\n",
    "            (\"Grace\", 28, \"New York\")]\n",
    "dfNewData = spark.createDataFrame(new_data, schema=schema)\n",
    "\n",
    "# Add the new rows to the existing DataFrame using union.\n",
    "dfCustomerGroupByCity = dfCustomer.union(dfNewData)\n",
    "\n",
    "# Group by city and calculate the count the clients in each city\n",
    "dfCustomerGroupByCity = dfCustomerGroupByCity.groupBy(\"City\").count()\n",
    "\n",
    "# Display results\n",
    "print(\"Number of customers in each city:\")\n",
    "dfCustomerGroupByCity.show()"
   ]
  },
  {
   "cell_type": "markdown",
   "metadata": {
    "application/vnd.databricks.v1+cell": {
     "cellMetadata": {},
     "inputWidgets": {},
     "nuid": "22537762-ed1b-44d1-866a-99e3e235e51e",
     "showTitle": false,
     "title": ""
    }
   },
   "source": [
    "### 8. Rename the column \"Name\" to \"Full_Name.\""
   ]
  },
  {
   "cell_type": "code",
   "execution_count": 0,
   "metadata": {
    "application/vnd.databricks.v1+cell": {
     "cellMetadata": {
      "byteLimit": 2048000,
      "rowLimit": 10000
     },
     "inputWidgets": {},
     "nuid": "424ba14c-daa7-4761-b108-24b44544d210",
     "showTitle": false,
     "title": ""
    }
   },
   "outputs": [
    {
     "output_type": "stream",
     "name": "stdout",
     "output_type": "stream",
     "text": [
      "+---------+---+-----------+\n|Full_Name|Age|       City|\n+---------+---+-----------+\n|    Alice| 25|   New York|\n|      Bob| 30|Los Angeles|\n|  Charlie| 22|    Chicago|\n+---------+---+-----------+\n\n"
     ]
    }
   ],
   "source": [
    "# Change name of the column \"Name\" to \"Full_Name\"\n",
    "dfCustomerFullName = dfCustomer.withColumnRenamed(\"Name\", \"Full_Name\")\n",
    "\n",
    "# Display results\n",
    "dfCustomerFullName.show()"
   ]
  },
  {
   "cell_type": "markdown",
   "metadata": {
    "application/vnd.databricks.v1+cell": {
     "cellMetadata": {},
     "inputWidgets": {},
     "nuid": "65bb6eb8-a497-466b-b984-4c7dae641937",
     "showTitle": false,
     "title": ""
    }
   },
   "source": [
    "### 9. Drop the \"Age\" column from the DataFrame."
   ]
  },
  {
   "cell_type": "code",
   "execution_count": 0,
   "metadata": {
    "application/vnd.databricks.v1+cell": {
     "cellMetadata": {
      "byteLimit": 2048000,
      "rowLimit": 10000
     },
     "inputWidgets": {},
     "nuid": "76cb75b6-992a-4833-bbbc-c2b4f41c5a94",
     "showTitle": false,
     "title": ""
    }
   },
   "outputs": [
    {
     "output_type": "stream",
     "name": "stdout",
     "output_type": "stream",
     "text": [
      "+-------+-----------+\n|   Name|       City|\n+-------+-----------+\n|  Alice|   New York|\n|    Bob|Los Angeles|\n|Charlie|    Chicago|\n+-------+-----------+\n\n"
     ]
    }
   ],
   "source": [
    "# Drop column\n",
    "dfCustomerDropAge = dfCustomer.drop(\"Age\")\n",
    "\n",
    "# Display results\n",
    "dfCustomerDropAge.show()"
   ]
  },
  {
   "cell_type": "markdown",
   "metadata": {
    "application/vnd.databricks.v1+cell": {
     "cellMetadata": {},
     "inputWidgets": {},
     "nuid": "51998a42-2276-4960-ad38-c992d6172b1f",
     "showTitle": false,
     "title": ""
    }
   },
   "source": [
    "### 10. Perform a SQL query on the DataFrame to select customers older than 20 years."
   ]
  },
  {
   "cell_type": "code",
   "execution_count": 0,
   "metadata": {
    "application/vnd.databricks.v1+cell": {
     "cellMetadata": {
      "byteLimit": 2048000,
      "rowLimit": 10000
     },
     "inputWidgets": {},
     "nuid": "592976f6-e7cb-4bd3-b4b0-ef02b5f0b5dd",
     "showTitle": false,
     "title": ""
    }
   },
   "outputs": [
    {
     "output_type": "stream",
     "name": "stdout",
     "output_type": "stream",
     "text": [
      "+-------+---+-----------+\n|   Name|Age|       City|\n+-------+---+-----------+\n|  Alice| 25|   New York|\n|    Bob| 30|Los Angeles|\n|Charlie| 22|    Chicago|\n+-------+---+-----------+\n\n"
     ]
    }
   ],
   "source": [
    "# Add more customers\n",
    "new_data = [(\"Frank\", 18, \"Chicago\"),\n",
    "            (\"Grace\", 17, \"New York\")]\n",
    "dfNewData = spark.createDataFrame(new_data, schema=schema)\n",
    "\n",
    "# Add the new rows to the existing DataFrame using union\n",
    "dfCustomerOlder20 = dfCustomer.union(dfNewData)\n",
    "\n",
    "# Perform the SQL query to select people over 20 years old\n",
    "query = \"SELECT * FROM older20 WHERE Age > 20\"\n",
    "\n",
    "# Register the DataFrame as a temporary table\n",
    "dfCustomerOlder20.createOrReplaceTempView(\"older20\")\n",
    "\n",
    "# Perform SQL\n",
    "result = spark.sql(query)\n",
    "\n",
    "# Display results\n",
    "result.show()"
   ]
  },
  {
   "cell_type": "markdown",
   "metadata": {
    "application/vnd.databricks.v1+cell": {
     "cellMetadata": {},
     "inputWidgets": {},
     "nuid": "c84fbcb9-d1f9-4a84-8623-5efb38a30187",
     "showTitle": false,
     "title": ""
    }
   },
   "source": [
    "### 11. Calculate the total sum of all ages."
   ]
  },
  {
   "cell_type": "code",
   "execution_count": 0,
   "metadata": {
    "application/vnd.databricks.v1+cell": {
     "cellMetadata": {
      "byteLimit": 2048000,
      "rowLimit": 10000
     },
     "inputWidgets": {},
     "nuid": "f139686a-e3ed-4ec6-9570-7ba16db67d92",
     "showTitle": false,
     "title": ""
    }
   },
   "outputs": [
    {
     "output_type": "stream",
     "name": "stdout",
     "output_type": "stream",
     "text": [
      "+--------+\n|sum(Age)|\n+--------+\n|      77|\n+--------+\n\n"
     ]
    }
   ],
   "source": [
    "# Function sum()\n",
    "ageSum = dfCustomer.select(sum(dfCustomer.Age))\n",
    "\n",
    "# Display results\n",
    "ageSum.show()"
   ]
  },
  {
   "cell_type": "markdown",
   "metadata": {
    "application/vnd.databricks.v1+cell": {
     "cellMetadata": {},
     "inputWidgets": {},
     "nuid": "61ad7527-1e53-445f-b4fc-0a3e4ca20f5c",
     "showTitle": false,
     "title": ""
    }
   },
   "source": [
    "### 12. Calculate the minimum and maximum age of all clients."
   ]
  },
  {
   "cell_type": "code",
   "execution_count": 0,
   "metadata": {
    "application/vnd.databricks.v1+cell": {
     "cellMetadata": {
      "byteLimit": 2048000,
      "rowLimit": 10000
     },
     "inputWidgets": {},
     "nuid": "437f4386-9328-4c96-b8bc-f1f182c6ec9e",
     "showTitle": false,
     "title": ""
    }
   },
   "outputs": [
    {
     "output_type": "stream",
     "name": "stdout",
     "output_type": "stream",
     "text": [
      "Minimum age: 22\nMaximum age: 30\n"
     ]
    }
   ],
   "source": [
    "# Minimum\n",
    "min = dfCustomer.agg({\"Age\": \"min\"}).collect()[0][0]\n",
    "print ('Minimum age:', min)\n",
    "\n",
    "# Maximun\n",
    "max = dfCustomer.agg({\"Age\": \"max\"}).collect()[0][0]\n",
    "print ('Maximum age:', max)"
   ]
  },
  {
   "cell_type": "markdown",
   "metadata": {
    "application/vnd.databricks.v1+cell": {
     "cellMetadata": {},
     "inputWidgets": {},
     "nuid": "3ecc8d17-4f45-4c38-9c60-682e1b450982",
     "showTitle": false,
     "title": ""
    }
   },
   "source": [
    "### 13. Filter clients whose city of residence is \"Chicago\" and age is less than 30."
   ]
  },
  {
   "cell_type": "code",
   "execution_count": 0,
   "metadata": {
    "application/vnd.databricks.v1+cell": {
     "cellMetadata": {
      "byteLimit": 2048000,
      "rowLimit": 10000
     },
     "inputWidgets": {},
     "nuid": "2327702c-cd4b-4f0d-91e4-ce61ae049f4c",
     "showTitle": false,
     "title": ""
    }
   },
   "outputs": [
    {
     "output_type": "stream",
     "name": "stdout",
     "output_type": "stream",
     "text": [
      "+-------+---+-------+\n|   Name|Age|   City|\n+-------+---+-------+\n|Charlie| 22|Chicago|\n+-------+---+-------+\n\n"
     ]
    }
   ],
   "source": [
    "# Filter\n",
    "df_chicago_30 = (dfCustomer\n",
    ".filter(col(\"City\") == \"Chicago\")\n",
    ".filter(col(\"Age\") < 30)\n",
    ")\n",
    "\n",
    "# Display results\n",
    "df_chicago_30.show()"
   ]
  },
  {
   "cell_type": "markdown",
   "metadata": {
    "application/vnd.databricks.v1+cell": {
     "cellMetadata": {},
     "inputWidgets": {},
     "nuid": "ee875ba1-ca61-471e-8705-8c4f23497ca8",
     "showTitle": false,
     "title": ""
    }
   },
   "source": [
    "### 14. Add a new column \"DoubledAge\" that contains twice the value of the age."
   ]
  },
  {
   "cell_type": "code",
   "execution_count": 0,
   "metadata": {
    "application/vnd.databricks.v1+cell": {
     "cellMetadata": {
      "byteLimit": 2048000,
      "rowLimit": 10000
     },
     "inputWidgets": {},
     "nuid": "086dde1d-4262-4af6-a493-17b4f54ad9a3",
     "showTitle": false,
     "title": ""
    }
   },
   "outputs": [
    {
     "output_type": "stream",
     "name": "stdout",
     "output_type": "stream",
     "text": [
      "+-------+---+-----------+-----------+\n|   Name|Age|       City|Doubled_Age|\n+-------+---+-----------+-----------+\n|  Alice| 25|   New York|         50|\n|    Bob| 30|Los Angeles|         60|\n|Charlie| 22|    Chicago|         44|\n+-------+---+-----------+-----------+\n\n"
     ]
    }
   ],
   "source": [
    "# Add column\n",
    "dfCustomerDoubledAge = dfCustomer.withColumn(\"Doubled_Age\", dfCustomer[\"Age\"] * 2)\n",
    "\n",
    "# Display results\n",
    "dfCustomerDoubledAge.show()"
   ]
  },
  {
   "cell_type": "markdown",
   "metadata": {
    "application/vnd.databricks.v1+cell": {
     "cellMetadata": {},
     "inputWidgets": {},
     "nuid": "79b216fd-59c7-4ea7-857b-d1d07e846fc4",
     "showTitle": false,
     "title": ""
    }
   },
   "source": [
    "### 15. Convert all ages from years to months."
   ]
  },
  {
   "cell_type": "code",
   "execution_count": 0,
   "metadata": {
    "application/vnd.databricks.v1+cell": {
     "cellMetadata": {
      "byteLimit": 2048000,
      "rowLimit": 10000
     },
     "inputWidgets": {},
     "nuid": "a13732b4-4228-4d5a-8815-6e0660d02cf9",
     "showTitle": false,
     "title": ""
    }
   },
   "outputs": [
    {
     "output_type": "stream",
     "name": "stdout",
     "output_type": "stream",
     "text": [
      "+-------+---+-----------+-------------+\n|   Name|Age|       City|Age_In_Months|\n+-------+---+-----------+-------------+\n|  Alice| 25|   New York|          300|\n|    Bob| 30|Los Angeles|          360|\n|Charlie| 22|    Chicago|          264|\n+-------+---+-----------+-------------+\n\n+-------+---+-----------+\n|   Name|Age|       City|\n+-------+---+-----------+\n|  Alice|300|   New York|\n|    Bob|360|Los Angeles|\n|Charlie|264|    Chicago|\n+-------+---+-----------+\n\n"
     ]
    }
   ],
   "source": [
    "# Addign a new column\n",
    "dfCustomerAgeInMonths = dfCustomer.withColumn(\"Age_In_Months\", dfCustomer[\"Age\"] * 12)\n",
    "\n",
    "# Display results\n",
    "dfCustomerAgeInMonths.show()\n",
    "\n",
    "# Editing Age column\n",
    "dfCustomerAgeInMonths1 = dfCustomer.withColumn(\"Age\", dfCustomer[\"Age\"] * 12)\n",
    "\n",
    "# Display results\n",
    "dfCustomerAgeInMonths1.show()"
   ]
  },
  {
   "cell_type": "markdown",
   "metadata": {
    "application/vnd.databricks.v1+cell": {
     "cellMetadata": {},
     "inputWidgets": {},
     "nuid": "4b3d0cec-693f-4c7c-a4de-c83fc8b11c55",
     "showTitle": false,
     "title": ""
    }
   },
   "source": [
    "### 16. Count the total number of clients in the DataFrame."
   ]
  },
  {
   "cell_type": "code",
   "execution_count": 0,
   "metadata": {
    "application/vnd.databricks.v1+cell": {
     "cellMetadata": {
      "byteLimit": 2048000,
      "rowLimit": 10000
     },
     "inputWidgets": {},
     "nuid": "b00f592c-0e16-40a0-ab61-2788298807f3",
     "showTitle": false,
     "title": ""
    }
   },
   "outputs": [
    {
     "output_type": "stream",
     "name": "stdout",
     "output_type": "stream",
     "text": [
      "Total clients:  3\n"
     ]
    }
   ],
   "source": [
    "print('Total clients: ',dfCustomer.count())"
   ]
  },
  {
   "cell_type": "markdown",
   "metadata": {
    "application/vnd.databricks.v1+cell": {
     "cellMetadata": {},
     "inputWidgets": {},
     "nuid": "0f4d9afe-589d-4926-b893-7bc680993848",
     "showTitle": false,
     "title": ""
    }
   },
   "source": [
    "### 17. Filter clients whose age is an even number."
   ]
  },
  {
   "cell_type": "code",
   "execution_count": 0,
   "metadata": {
    "application/vnd.databricks.v1+cell": {
     "cellMetadata": {
      "byteLimit": 2048000,
      "rowLimit": 10000
     },
     "inputWidgets": {},
     "nuid": "4384272d-70d9-4dae-87c0-4c4487f5bb81",
     "showTitle": false,
     "title": ""
    }
   },
   "outputs": [
    {
     "output_type": "stream",
     "name": "stdout",
     "output_type": "stream",
     "text": [
      "+-------+---+-----------+\n|   Name|Age|       City|\n+-------+---+-----------+\n|    Bob| 30|Los Angeles|\n|Charlie| 22|    Chicago|\n+-------+---+-----------+\n\n"
     ]
    }
   ],
   "source": [
    "# Filter\n",
    "dfEven = dfCustomer.filter((dfCustomer[\"Age\"] % 2) == 0)\n",
    "\n",
    "# Display results\n",
    "dfEven.show()"
   ]
  },
  {
   "cell_type": "markdown",
   "metadata": {
    "application/vnd.databricks.v1+cell": {
     "cellMetadata": {},
     "inputWidgets": {},
     "nuid": "7f46a766-c84d-41eb-ac99-f7414ea64563",
     "showTitle": false,
     "title": ""
    }
   },
   "source": [
    "### 18. Calculate the count of clients per age range (0-20, 21-40, 41-60, 61+)."
   ]
  },
  {
   "cell_type": "code",
   "execution_count": 0,
   "metadata": {
    "application/vnd.databricks.v1+cell": {
     "cellMetadata": {
      "byteLimit": 2048000,
      "rowLimit": 10000
     },
     "inputWidgets": {},
     "nuid": "191c4909-aa02-4d86-829e-e599f0d2d1e0",
     "showTitle": false,
     "title": ""
    }
   },
   "outputs": [
    {
     "output_type": "stream",
     "name": "stdout",
     "output_type": "stream",
     "text": [
      "+-------+---+-----------+--------+\n|   Name|Age|       City|AgeRange|\n+-------+---+-----------+--------+\n|  Alice| 25|   New York|   21-40|\n|    Bob| 30|Los Angeles|   21-40|\n|Charlie| 22|    Chicago|   21-40|\n|  Frank|  5|    Chicago|    0-20|\n|  Grace| 22|   New York|   21-40|\n|   Ivan| 45|      Miami|   41-60|\n|   Jose| 81|      Tampa|     61+|\n+-------+---+-----------+--------+\n\n+--------+-----+\n|AgeRange|count|\n+--------+-----+\n|   21-40|    4|\n|    0-20|    1|\n|   41-60|    1|\n|     61+|    1|\n+--------+-----+\n\n"
     ]
    }
   ],
   "source": [
    "# Add more customers\n",
    "new_data = [(\"Frank\", 5, \"Chicago\"),\n",
    "            (\"Grace\", 22, \"New York\"),\n",
    "            (\"Ivan\", 45, \"Miami\"),\n",
    "            (\"Jose\", 81, \"Tampa\")\n",
    "            ]\n",
    "dfNewData = spark.createDataFrame(new_data, schema=schema)\n",
    "\n",
    "# Add the new rows to the existing DataFrame using union\n",
    "dfCustomerByAgeRange = dfCustomer.union(dfNewData)\n",
    "\n",
    "# Create a new column with age range\n",
    "dfCustomerByAgeRange = dfCustomerByAgeRange.withColumn(\"AgeRange\", expr(\n",
    "    \"CASE WHEN Age <= 20 THEN '0-20' \" +\n",
    "    \"WHEN Age <= 40 THEN '21-40' \" +\n",
    "    \"WHEN Age <= 60 THEN '41-60' \" +\n",
    "    \"ELSE '61+' END\"\n",
    "))\n",
    "\n",
    "# Display results\n",
    "dfCustomerByAgeRange.show()\n",
    "\n",
    "# Count by age range\n",
    "result = dfCustomerByAgeRange.groupBy(\"AgeRange\").count()\n",
    "\n",
    "# Display results\n",
    "result.show()\n"
   ]
  },
  {
   "cell_type": "markdown",
   "metadata": {
    "application/vnd.databricks.v1+cell": {
     "cellMetadata": {},
     "inputWidgets": {},
     "nuid": "974d12d8-2421-4fce-84ea-c1d8e07c0e20",
     "showTitle": false,
     "title": ""
    }
   },
   "source": [
    "### 19. Count how many clients share the same name."
   ]
  },
  {
   "cell_type": "code",
   "execution_count": 0,
   "metadata": {
    "application/vnd.databricks.v1+cell": {
     "cellMetadata": {
      "byteLimit": 2048000,
      "rowLimit": 10000
     },
     "inputWidgets": {},
     "nuid": "6e332963-2d84-42d2-9954-2a2850b39c4c",
     "showTitle": false,
     "title": ""
    }
   },
   "outputs": [
    {
     "output_type": "stream",
     "name": "stdout",
     "output_type": "stream",
     "text": [
      "+-------+-----+\n|   Name|count|\n+-------+-----+\n|  Alice|    2|\n|    Bob|    1|\n|Charlie|    1|\n+-------+-----+\n\n"
     ]
    }
   ],
   "source": [
    "# Add more customers\n",
    "new_data = [(\"Alice\", 5, \"Chicago\")]\n",
    "dfNewData = spark.createDataFrame(new_data, schema=schema)\n",
    "\n",
    "# Add the new rows to the existing DataFrame using union\n",
    "resultNameDuplicated = dfCustomer.union(dfNewData)\n",
    "\n",
    "# Group by\n",
    "resultNameDuplicated = resultNameDuplicated.groupBy(\"Name\").count()\n",
    "\n",
    "# Display results\n",
    "resultNameDuplicated.show()"
   ]
  },
  {
   "cell_type": "markdown",
   "metadata": {
    "application/vnd.databricks.v1+cell": {
     "cellMetadata": {},
     "inputWidgets": {},
     "nuid": "bfacdba3-304c-4420-bf40-828c4085f4c4",
     "showTitle": false,
     "title": ""
    }
   },
   "source": [
    "### 20. Concatenate the \"Name\" and \"Age\" columns into a new column called \"PersonalInformation.\""
   ]
  },
  {
   "cell_type": "code",
   "execution_count": 0,
   "metadata": {
    "application/vnd.databricks.v1+cell": {
     "cellMetadata": {
      "byteLimit": 2048000,
      "rowLimit": 10000
     },
     "inputWidgets": {},
     "nuid": "ab4e55a8-c1c8-441b-8532-3cc25babedf0",
     "showTitle": false,
     "title": ""
    }
   },
   "outputs": [
    {
     "output_type": "stream",
     "name": "stdout",
     "output_type": "stream",
     "text": [
      "+-------+---+-----------+--------------------+\n|   Name|Age|       City|Personal_Information|\n+-------+---+-----------+--------------------+\n|  Alice| 25|   New York|     Alice, New York|\n|    Bob| 30|Los Angeles|    Bob, Los Angeles|\n|Charlie| 22|    Chicago|    Charlie, Chicago|\n+-------+---+-----------+--------------------+\n\n"
     ]
    }
   ],
   "source": [
    "# Concatenate Columns\n",
    "dfCustomerNameCityJoined = dfCustomer.withColumn(\"Personal_Information\", concat_ws(\", \", dfCustomer[\"Name\"], dfCustomer[\"City\"]))\n",
    "\n",
    "# Display results\n",
    "dfCustomerNameCityJoined.show()"
   ]
  }
 ],
 "metadata": {
  "application/vnd.databricks.v1+notebook": {
   "dashboards": [],
   "language": "python",
   "notebookMetadata": {
    "pythonIndentUnit": 4
   },
   "notebookName": "Practica - PySpark",
   "widgets": {}
  }
 },
 "nbformat": 4,
 "nbformat_minor": 0
}
